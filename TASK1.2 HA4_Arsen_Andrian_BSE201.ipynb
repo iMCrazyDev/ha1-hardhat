{
  "nbformat": 4,
  "nbformat_minor": 0,
  "metadata": {
    "colab": {
      "provenance": []
    },
    "kernelspec": {
      "name": "python3",
      "display_name": "Python 3"
    },
    "language_info": {
      "name": "python"
    }
  },
  "cells": [
    {
      "cell_type": "markdown",
      "source": [
        "#HA4-Arsen-Andrian-BSE201"
      ],
      "metadata": {
        "id": "q_lrqnAc2mT7"
      }
    },
    {
      "cell_type": "markdown",
      "source": [
        "#Task 1\n",
        "Deploy the ERC20 token smart contract with any reasonable parameters  \\\n",
        "https://goerli.etherscan.io/tx/0xfa8548640c782f5d500274c09fc14eeadc10672b3b5d672502cbc79d7a0e9abc\n",
        "https://goerli.etherscan.io/address/0xce8d83a68ad140700ff63e9cd53dfb2eef3c9e81"
      ],
      "metadata": {
        "id": "pO0QPIX-_NYh"
      }
    },
    {
      "cell_type": "code",
      "execution_count": null,
      "metadata": {
        "id": "foeydoZ12hJ7"
      },
      "outputs": [],
      "source": [
        "!pip install web3"
      ]
    },
    {
      "cell_type": "code",
      "source": [
        "from web3 import Web3, AsyncWeb3\n",
        "INFURA_API_KEY = \"73e4cc21b1ff41c387f0629745ebf246\"\n",
        "network = input('enter eth network e.g. goerli, sepolia or mainnet or url')\n",
        "\n",
        "w3 = Web3(Web3.HTTPProvider(network if 'http' in network else f'https://{network}.infura.io/v3/{INFURA_API_KEY}'))"
      ],
      "metadata": {
        "colab": {
          "base_uri": "https://localhost:8080/"
        },
        "id": "MYFJcDzn_zZs",
        "outputId": "1960ef98-01e2-4dd8-f4ce-2ec278883a72"
      },
      "execution_count": null,
      "outputs": [
        {
          "name": "stdout",
          "output_type": "stream",
          "text": [
            "enter eth network e.g. goerli, sepolia or mainnet or urlgoerli\n"
          ]
        }
      ]
    },
    {
      "cell_type": "code",
      "source": [
        "w3.is_connected()"
      ],
      "metadata": {
        "colab": {
          "base_uri": "https://localhost:8080/"
        },
        "id": "ACF_9tnQiFX_",
        "outputId": "9ace0814-796c-4d51-b51b-99487e4db3e7"
      },
      "execution_count": null,
      "outputs": [
        {
          "output_type": "execute_result",
          "data": {
            "text/plain": [
              "True"
            ]
          },
          "metadata": {},
          "execution_count": 4
        }
      ]
    },
    {
      "cell_type": "code",
      "source": [
        "private_key = input('enter private key for transaction')"
      ],
      "metadata": {
        "id": "lav549gjiKAF"
      },
      "execution_count": null,
      "outputs": []
    },
    {
      "cell_type": "markdown",
      "source": [
        "Compute gas consumption per transaction from 1.1 and 1.2 with scripts. Check if all\n",
        "the transactions are successful (blockchain applied changes from the transaction) with scripts.\n",
        "Only Web3 is recommended"
      ],
      "metadata": {
        "id": "MnPI03DOkp2p"
      }
    },
    {
      "cell_type": "code",
      "source": [
        "my_address = \"0x412B073fFE0c94aE68C4D8C7aaedD1E4E70c1AAa\"\n",
        "to_address = \"0x80773c866332a7f3CFdD583d0b3A96655F035d6C\"\n",
        "contract_address = \"0x87fC76a184DF096fdC9c24368C172045D636b87c\"\n",
        "contract_abi = '''[ \t{ \t\t\"inputs\": [ \t\t\t{ \t\t\t\t\"internalType\": \"address\", \t\t\t\t\"name\": \"initialOwner\", \t\t\t\t\"type\": \"address\" \t\t\t} \t\t], \t\t\"stateMutability\": \"nonpayable\", \t\t\"type\": \"constructor\" \t}, \t{ \t\t\"inputs\": [], \t\t\"name\": \"ECDSAInvalidSignature\", \t\t\"type\": \"error\" \t}, \t{ \t\t\"inputs\": [ \t\t\t{ \t\t\t\t\"internalType\": \"uint256\", \t\t\t\t\"name\": \"length\", \t\t\t\t\"type\": \"uint256\" \t\t\t} \t\t], \t\t\"name\": \"ECDSAInvalidSignatureLength\", \t\t\"type\": \"error\" \t}, \t{ \t\t\"inputs\": [ \t\t\t{ \t\t\t\t\"internalType\": \"bytes32\", \t\t\t\t\"name\": \"s\", \t\t\t\t\"type\": \"bytes32\" \t\t\t} \t\t], \t\t\"name\": \"ECDSAInvalidSignatureS\", \t\t\"type\": \"error\" \t}, \t{ \t\t\"inputs\": [ \t\t\t{ \t\t\t\t\"internalType\": \"address\", \t\t\t\t\"name\": \"spender\", \t\t\t\t\"type\": \"address\" \t\t\t}, \t\t\t{ \t\t\t\t\"internalType\": \"uint256\", \t\t\t\t\"name\": \"allowance\", \t\t\t\t\"type\": \"uint256\" \t\t\t}, \t\t\t{ \t\t\t\t\"internalType\": \"uint256\", \t\t\t\t\"name\": \"needed\", \t\t\t\t\"type\": \"uint256\" \t\t\t} \t\t], \t\t\"name\": \"ERC20InsufficientAllowance\", \t\t\"type\": \"error\" \t}, \t{ \t\t\"inputs\": [ \t\t\t{ \t\t\t\t\"internalType\": \"address\", \t\t\t\t\"name\": \"sender\", \t\t\t\t\"type\": \"address\" \t\t\t}, \t\t\t{ \t\t\t\t\"internalType\": \"uint256\", \t\t\t\t\"name\": \"balance\", \t\t\t\t\"type\": \"uint256\" \t\t\t}, \t\t\t{ \t\t\t\t\"internalType\": \"uint256\", \t\t\t\t\"name\": \"needed\", \t\t\t\t\"type\": \"uint256\" \t\t\t} \t\t], \t\t\"name\": \"ERC20InsufficientBalance\", \t\t\"type\": \"error\" \t}, \t{ \t\t\"inputs\": [ \t\t\t{ \t\t\t\t\"internalType\": \"address\", \t\t\t\t\"name\": \"approver\", \t\t\t\t\"type\": \"address\" \t\t\t} \t\t], \t\t\"name\": \"ERC20InvalidApprover\", \t\t\"type\": \"error\" \t}, \t{ \t\t\"inputs\": [ \t\t\t{ \t\t\t\t\"internalType\": \"address\", \t\t\t\t\"name\": \"receiver\", \t\t\t\t\"type\": \"address\" \t\t\t} \t\t], \t\t\"name\": \"ERC20InvalidReceiver\", \t\t\"type\": \"error\" \t}, \t{ \t\t\"inputs\": [ \t\t\t{ \t\t\t\t\"internalType\": \"address\", \t\t\t\t\"name\": \"sender\", \t\t\t\t\"type\": \"address\" \t\t\t} \t\t], \t\t\"name\": \"ERC20InvalidSender\", \t\t\"type\": \"error\" \t}, \t{ \t\t\"inputs\": [ \t\t\t{ \t\t\t\t\"internalType\": \"address\", \t\t\t\t\"name\": \"spender\", \t\t\t\t\"type\": \"address\" \t\t\t} \t\t], \t\t\"name\": \"ERC20InvalidSpender\", \t\t\"type\": \"error\" \t}, \t{ \t\t\"inputs\": [ \t\t\t{ \t\t\t\t\"internalType\": \"uint256\", \t\t\t\t\"name\": \"deadline\", \t\t\t\t\"type\": \"uint256\" \t\t\t} \t\t], \t\t\"name\": \"ERC2612ExpiredSignature\", \t\t\"type\": \"error\" \t}, \t{ \t\t\"inputs\": [ \t\t\t{ \t\t\t\t\"internalType\": \"address\", \t\t\t\t\"name\": \"signer\", \t\t\t\t\"type\": \"address\" \t\t\t}, \t\t\t{ \t\t\t\t\"internalType\": \"address\", \t\t\t\t\"name\": \"owner\", \t\t\t\t\"type\": \"address\" \t\t\t} \t\t], \t\t\"name\": \"ERC2612InvalidSigner\", \t\t\"type\": \"error\" \t}, \t{ \t\t\"inputs\": [ \t\t\t{ \t\t\t\t\"internalType\": \"address\", \t\t\t\t\"name\": \"account\", \t\t\t\t\"type\": \"address\" \t\t\t}, \t\t\t{ \t\t\t\t\"internalType\": \"uint256\", \t\t\t\t\"name\": \"currentNonce\", \t\t\t\t\"type\": \"uint256\" \t\t\t} \t\t], \t\t\"name\": \"InvalidAccountNonce\", \t\t\"type\": \"error\" \t}, \t{ \t\t\"inputs\": [], \t\t\"name\": \"InvalidShortString\", \t\t\"type\": \"error\" \t}, \t{ \t\t\"inputs\": [ \t\t\t{ \t\t\t\t\"internalType\": \"address\", \t\t\t\t\"name\": \"owner\", \t\t\t\t\"type\": \"address\" \t\t\t} \t\t], \t\t\"name\": \"OwnableInvalidOwner\", \t\t\"type\": \"error\" \t}, \t{ \t\t\"inputs\": [ \t\t\t{ \t\t\t\t\"internalType\": \"address\", \t\t\t\t\"name\": \"account\", \t\t\t\t\"type\": \"address\" \t\t\t} \t\t], \t\t\"name\": \"OwnableUnauthorizedAccount\", \t\t\"type\": \"error\" \t}, \t{ \t\t\"inputs\": [ \t\t\t{ \t\t\t\t\"internalType\": \"string\", \t\t\t\t\"name\": \"str\", \t\t\t\t\"type\": \"string\" \t\t\t} \t\t], \t\t\"name\": \"StringTooLong\", \t\t\"type\": \"error\" \t}, \t{ \t\t\"anonymous\": false, \t\t\"inputs\": [ \t\t\t{ \t\t\t\t\"indexed\": true, \t\t\t\t\"internalType\": \"address\", \t\t\t\t\"name\": \"owner\", \t\t\t\t\"type\": \"address\" \t\t\t}, \t\t\t{ \t\t\t\t\"indexed\": true, \t\t\t\t\"internalType\": \"address\", \t\t\t\t\"name\": \"spender\", \t\t\t\t\"type\": \"address\" \t\t\t}, \t\t\t{ \t\t\t\t\"indexed\": false, \t\t\t\t\"internalType\": \"uint256\", \t\t\t\t\"name\": \"value\", \t\t\t\t\"type\": \"uint256\" \t\t\t} \t\t], \t\t\"name\": \"Approval\", \t\t\"type\": \"event\" \t}, \t{ \t\t\"anonymous\": false, \t\t\"inputs\": [], \t\t\"name\": \"EIP712DomainChanged\", \t\t\"type\": \"event\" \t}, \t{ \t\t\"anonymous\": false, \t\t\"inputs\": [ \t\t\t{ \t\t\t\t\"indexed\": true, \t\t\t\t\"internalType\": \"address\", \t\t\t\t\"name\": \"previousOwner\", \t\t\t\t\"type\": \"address\" \t\t\t}, \t\t\t{ \t\t\t\t\"indexed\": true, \t\t\t\t\"internalType\": \"address\", \t\t\t\t\"name\": \"newOwner\", \t\t\t\t\"type\": \"address\" \t\t\t} \t\t], \t\t\"name\": \"OwnershipTransferred\", \t\t\"type\": \"event\" \t}, \t{ \t\t\"anonymous\": false, \t\t\"inputs\": [ \t\t\t{ \t\t\t\t\"indexed\": true, \t\t\t\t\"internalType\": \"address\", \t\t\t\t\"name\": \"from\", \t\t\t\t\"type\": \"address\" \t\t\t}, \t\t\t{ \t\t\t\t\"indexed\": true, \t\t\t\t\"internalType\": \"address\", \t\t\t\t\"name\": \"to\", \t\t\t\t\"type\": \"address\" \t\t\t}, \t\t\t{ \t\t\t\t\"indexed\": false, \t\t\t\t\"internalType\": \"uint256\", \t\t\t\t\"name\": \"value\", \t\t\t\t\"type\": \"uint256\" \t\t\t} \t\t], \t\t\"name\": \"Transfer\", \t\t\"type\": \"event\" \t}, \t{ \t\t\"inputs\": [], \t\t\"name\": \"DOMAIN_SEPARATOR\", \t\t\"outputs\": [ \t\t\t{ \t\t\t\t\"internalType\": \"bytes32\", \t\t\t\t\"name\": \"\", \t\t\t\t\"type\": \"bytes32\" \t\t\t} \t\t], \t\t\"stateMutability\": \"view\", \t\t\"type\": \"function\" \t}, \t{ \t\t\"inputs\": [ \t\t\t{ \t\t\t\t\"internalType\": \"address\", \t\t\t\t\"name\": \"owner\", \t\t\t\t\"type\": \"address\" \t\t\t}, \t\t\t{ \t\t\t\t\"internalType\": \"address\", \t\t\t\t\"name\": \"spender\", \t\t\t\t\"type\": \"address\" \t\t\t} \t\t], \t\t\"name\": \"allowance\", \t\t\"outputs\": [ \t\t\t{ \t\t\t\t\"internalType\": \"uint256\", \t\t\t\t\"name\": \"\", \t\t\t\t\"type\": \"uint256\" \t\t\t} \t\t], \t\t\"stateMutability\": \"view\", \t\t\"type\": \"function\" \t}, \t{ \t\t\"inputs\": [ \t\t\t{ \t\t\t\t\"internalType\": \"address\", \t\t\t\t\"name\": \"spender\", \t\t\t\t\"type\": \"address\" \t\t\t}, \t\t\t{ \t\t\t\t\"internalType\": \"uint256\", \t\t\t\t\"name\": \"value\", \t\t\t\t\"type\": \"uint256\" \t\t\t} \t\t], \t\t\"name\": \"approve\", \t\t\"outputs\": [ \t\t\t{ \t\t\t\t\"internalType\": \"bool\", \t\t\t\t\"name\": \"\", \t\t\t\t\"type\": \"bool\" \t\t\t} \t\t], \t\t\"stateMutability\": \"nonpayable\", \t\t\"type\": \"function\" \t}, \t{ \t\t\"inputs\": [ \t\t\t{ \t\t\t\t\"internalType\": \"address\", \t\t\t\t\"name\": \"account\", \t\t\t\t\"type\": \"address\" \t\t\t} \t\t], \t\t\"name\": \"balanceOf\", \t\t\"outputs\": [ \t\t\t{ \t\t\t\t\"internalType\": \"uint256\", \t\t\t\t\"name\": \"\", \t\t\t\t\"type\": \"uint256\" \t\t\t} \t\t], \t\t\"stateMutability\": \"view\", \t\t\"type\": \"function\" \t}, \t{ \t\t\"inputs\": [], \t\t\"name\": \"decimals\", \t\t\"outputs\": [ \t\t\t{ \t\t\t\t\"internalType\": \"uint8\", \t\t\t\t\"name\": \"\", \t\t\t\t\"type\": \"uint8\" \t\t\t} \t\t], \t\t\"stateMutability\": \"view\", \t\t\"type\": \"function\" \t}, \t{ \t\t\"inputs\": [], \t\t\"name\": \"eip712Domain\", \t\t\"outputs\": [ \t\t\t{ \t\t\t\t\"internalType\": \"bytes1\", \t\t\t\t\"name\": \"fields\", \t\t\t\t\"type\": \"bytes1\" \t\t\t}, \t\t\t{ \t\t\t\t\"internalType\": \"string\", \t\t\t\t\"name\": \"name\", \t\t\t\t\"type\": \"string\" \t\t\t}, \t\t\t{ \t\t\t\t\"internalType\": \"string\", \t\t\t\t\"name\": \"version\", \t\t\t\t\"type\": \"string\" \t\t\t}, \t\t\t{ \t\t\t\t\"internalType\": \"uint256\", \t\t\t\t\"name\": \"chainId\", \t\t\t\t\"type\": \"uint256\" \t\t\t}, \t\t\t{ \t\t\t\t\"internalType\": \"address\", \t\t\t\t\"name\": \"verifyingContract\", \t\t\t\t\"type\": \"address\" \t\t\t}, \t\t\t{ \t\t\t\t\"internalType\": \"bytes32\", \t\t\t\t\"name\": \"salt\", \t\t\t\t\"type\": \"bytes32\" \t\t\t}, \t\t\t{ \t\t\t\t\"internalType\": \"uint256[]\", \t\t\t\t\"name\": \"extensions\", \t\t\t\t\"type\": \"uint256[]\" \t\t\t} \t\t], \t\t\"stateMutability\": \"view\", \t\t\"type\": \"function\" \t}, \t{ \t\t\"inputs\": [ \t\t\t{ \t\t\t\t\"internalType\": \"address\", \t\t\t\t\"name\": \"to\", \t\t\t\t\"type\": \"address\" \t\t\t}, \t\t\t{ \t\t\t\t\"internalType\": \"uint256\", \t\t\t\t\"name\": \"amount\", \t\t\t\t\"type\": \"uint256\" \t\t\t} \t\t], \t\t\"name\": \"mint\", \t\t\"outputs\": [], \t\t\"stateMutability\": \"nonpayable\", \t\t\"type\": \"function\" \t}, \t{ \t\t\"inputs\": [], \t\t\"name\": \"name\", \t\t\"outputs\": [ \t\t\t{ \t\t\t\t\"internalType\": \"string\", \t\t\t\t\"name\": \"\", \t\t\t\t\"type\": \"string\" \t\t\t} \t\t], \t\t\"stateMutability\": \"view\", \t\t\"type\": \"function\" \t}, \t{ \t\t\"inputs\": [ \t\t\t{ \t\t\t\t\"internalType\": \"address\", \t\t\t\t\"name\": \"owner\", \t\t\t\t\"type\": \"address\" \t\t\t} \t\t], \t\t\"name\": \"nonces\", \t\t\"outputs\": [ \t\t\t{ \t\t\t\t\"internalType\": \"uint256\", \t\t\t\t\"name\": \"\", \t\t\t\t\"type\": \"uint256\" \t\t\t} \t\t], \t\t\"stateMutability\": \"view\", \t\t\"type\": \"function\" \t}, \t{ \t\t\"inputs\": [], \t\t\"name\": \"owner\", \t\t\"outputs\": [ \t\t\t{ \t\t\t\t\"internalType\": \"address\", \t\t\t\t\"name\": \"\", \t\t\t\t\"type\": \"address\" \t\t\t} \t\t], \t\t\"stateMutability\": \"view\", \t\t\"type\": \"function\" \t}, \t{ \t\t\"inputs\": [ \t\t\t{ \t\t\t\t\"internalType\": \"address\", \t\t\t\t\"name\": \"owner\", \t\t\t\t\"type\": \"address\" \t\t\t}, \t\t\t{ \t\t\t\t\"internalType\": \"address\", \t\t\t\t\"name\": \"spender\", \t\t\t\t\"type\": \"address\" \t\t\t}, \t\t\t{ \t\t\t\t\"internalType\": \"uint256\", \t\t\t\t\"name\": \"value\", \t\t\t\t\"type\": \"uint256\" \t\t\t}, \t\t\t{ \t\t\t\t\"internalType\": \"uint256\", \t\t\t\t\"name\": \"deadline\", \t\t\t\t\"type\": \"uint256\" \t\t\t}, \t\t\t{ \t\t\t\t\"internalType\": \"uint8\", \t\t\t\t\"name\": \"v\", \t\t\t\t\"type\": \"uint8\" \t\t\t}, \t\t\t{ \t\t\t\t\"internalType\": \"bytes32\", \t\t\t\t\"name\": \"r\", \t\t\t\t\"type\": \"bytes32\" \t\t\t}, \t\t\t{ \t\t\t\t\"internalType\": \"bytes32\", \t\t\t\t\"name\": \"s\", \t\t\t\t\"type\": \"bytes32\" \t\t\t} \t\t], \t\t\"name\": \"permit\", \t\t\"outputs\": [], \t\t\"stateMutability\": \"nonpayable\", \t\t\"type\": \"function\" \t}, \t{ \t\t\"inputs\": [], \t\t\"name\": \"renounceOwnership\", \t\t\"outputs\": [], \t\t\"stateMutability\": \"nonpayable\", \t\t\"type\": \"function\" \t}, \t{ \t\t\"inputs\": [], \t\t\"name\": \"symbol\", \t\t\"outputs\": [ \t\t\t{ \t\t\t\t\"internalType\": \"string\", \t\t\t\t\"name\": \"\", \t\t\t\t\"type\": \"string\" \t\t\t} \t\t], \t\t\"stateMutability\": \"view\", \t\t\"type\": \"function\" \t}, \t{ \t\t\"inputs\": [], \t\t\"name\": \"totalSupply\", \t\t\"outputs\": [ \t\t\t{ \t\t\t\t\"internalType\": \"uint256\", \t\t\t\t\"name\": \"\", \t\t\t\t\"type\": \"uint256\" \t\t\t} \t\t], \t\t\"stateMutability\": \"view\", \t\t\"type\": \"function\" \t}, \t{ \t\t\"inputs\": [ \t\t\t{ \t\t\t\t\"internalType\": \"address\", \t\t\t\t\"name\": \"to\", \t\t\t\t\"type\": \"address\" \t\t\t}, \t\t\t{ \t\t\t\t\"internalType\": \"uint256\", \t\t\t\t\"name\": \"value\", \t\t\t\t\"type\": \"uint256\" \t\t\t} \t\t], \t\t\"name\": \"transfer\", \t\t\"outputs\": [ \t\t\t{ \t\t\t\t\"internalType\": \"bool\", \t\t\t\t\"name\": \"\", \t\t\t\t\"type\": \"bool\" \t\t\t} \t\t], \t\t\"stateMutability\": \"nonpayable\", \t\t\"type\": \"function\" \t}, \t{ \t\t\"inputs\": [ \t\t\t{ \t\t\t\t\"internalType\": \"address\", \t\t\t\t\"name\": \"from\", \t\t\t\t\"type\": \"address\" \t\t\t}, \t\t\t{ \t\t\t\t\"internalType\": \"address\", \t\t\t\t\"name\": \"to\", \t\t\t\t\"type\": \"address\" \t\t\t}, \t\t\t{ \t\t\t\t\"internalType\": \"uint256\", \t\t\t\t\"name\": \"value\", \t\t\t\t\"type\": \"uint256\" \t\t\t} \t\t], \t\t\"name\": \"transferFrom\", \t\t\"outputs\": [ \t\t\t{ \t\t\t\t\"internalType\": \"bool\", \t\t\t\t\"name\": \"\", \t\t\t\t\"type\": \"bool\" \t\t\t} \t\t], \t\t\"stateMutability\": \"nonpayable\", \t\t\"type\": \"function\" \t}, \t{ \t\t\"inputs\": [ \t\t\t{ \t\t\t\t\"internalType\": \"address\", \t\t\t\t\"name\": \"newOwner\", \t\t\t\t\"type\": \"address\" \t\t\t} \t\t], \t\t\"name\": \"transferOwnership\", \t\t\"outputs\": [], \t\t\"stateMutability\": \"nonpayable\", \t\t\"type\": \"function\" \t} ]'''\n",
        "contract = w3.eth.contract(address=contract_address, abi=contract_abi)\n",
        "\n",
        "address_obj = w3.to_checksum_address(my_address)\n",
        "address_obj2 = w3.to_checksum_address(to_address)\n",
        "nonce = w3.eth.get_transaction_count(my_address)\n",
        "val = 10000000000000000000\n",
        "trs = contract.functions.transfer(address_obj2, val).build_transaction({\n",
        "    'from': my_address,\n",
        "    #'gas': gas_limit,\n",
        "    'gasPrice': w3.to_wei('11', 'wei'),\n",
        "    'nonce': nonce,\n",
        "})\n",
        "gas = w3.eth.estimate_gas(trs)\n",
        "trs.update({'gas': gas})\n",
        "print('Gas consumption', gas)\n"
      ],
      "metadata": {
        "colab": {
          "base_uri": "https://localhost:8080/"
        },
        "id": "e1djdW84iTU1",
        "outputId": "8d4e4573-eb49-4be0-986b-c34d00365435"
      },
      "execution_count": null,
      "outputs": [
        {
          "output_type": "stream",
          "name": "stdout",
          "text": [
            "Gas consumption 35420\n"
          ]
        }
      ]
    },
    {
      "cell_type": "code",
      "source": [
        "signed_transaction = w3.eth.account.sign_transaction(trs, private_key)\n",
        "tx_hash = w3.eth.send_raw_transaction(signed_transaction.rawTransaction)\n",
        "receipt = w3.eth.wait_for_transaction_receipt(tx_hash)\n",
        "print(receipt)"
      ],
      "metadata": {
        "colab": {
          "base_uri": "https://localhost:8080/"
        },
        "id": "Gi_v-ve8icFW",
        "outputId": "c44dc67c-3306-4b02-fdcf-8ec4425856ce"
      },
      "execution_count": null,
      "outputs": [
        {
          "output_type": "stream",
          "name": "stdout",
          "text": [
            "AttributeDict({'blockHash': HexBytes('0x1c61aebb28e51cfa24a19db4ab99f08182a8054f112df15ab0d3c84f26e0bf85'), 'blockNumber': 10378991, 'contractAddress': None, 'cumulativeGasUsed': 14782693, 'effectiveGasPrice': 11, 'from': '0x412B073fFE0c94aE68C4D8C7aaedD1E4E70c1AAa', 'gasUsed': 35060, 'logs': [AttributeDict({'address': '0x87fC76a184DF096fdC9c24368C172045D636b87c', 'blockHash': HexBytes('0x1c61aebb28e51cfa24a19db4ab99f08182a8054f112df15ab0d3c84f26e0bf85'), 'blockNumber': 10378991, 'data': HexBytes('0x0000000000000000000000000000000000000000000000008ac7230489e80000'), 'logIndex': 144, 'removed': False, 'topics': [HexBytes('0xddf252ad1be2c89b69c2b068fc378daa952ba7f163c4a11628f55a4df523b3ef'), HexBytes('0x000000000000000000000000412b073ffe0c94ae68c4d8c7aaedd1e4e70c1aaa'), HexBytes('0x00000000000000000000000080773c866332a7f3cfdd583d0b3a96655f035d6c')], 'transactionHash': HexBytes('0x582c1428d437c88d6f5cce2803b4900def03369e8c96005a229542f01bc5c5a8'), 'transactionIndex': 98})], 'logsBloom': HexBytes('0x00000000000000000000000000000000000000000000000080000000000000000000000000000000000000000000000000200000000000000000200000000000000000000000000000000008000000000000000000000000000000000000000000000000000000000000000000000000000000000000000000000010000000000000000000000000000000000000000000000000000000000000000000000000000000000000000000000000000000000000000000000002000000000000000000000002000000000000000000000000410000000000040000000000008000000000000000000000800000000000000000000000000000000000000000000000'), 'status': 1, 'to': '0x87fC76a184DF096fdC9c24368C172045D636b87c', 'transactionHash': HexBytes('0x582c1428d437c88d6f5cce2803b4900def03369e8c96005a229542f01bc5c5a8'), 'transactionIndex': 98, 'type': 0})\n"
          ]
        }
      ]
    },
    {
      "cell_type": "markdown",
      "source": [
        "транзакция https://goerli.etherscan.io/tx/0x582c1428d437c88d6f5cce2803b4900def03369e8c96005a229542f01bc5c5a8"
      ],
      "metadata": {
        "id": "6W0msNQzkdyB"
      }
    },
    {
      "cell_type": "code",
      "source": [],
      "metadata": {
        "id": "YLJjtTyQki1C"
      },
      "execution_count": null,
      "outputs": []
    }
  ]
}